{
 "cells": [
  {
   "cell_type": "code",
   "execution_count": 117,
   "metadata": {},
   "outputs": [],
   "source": [
    "import pandas as pd\n",
    "import numpy as np\n",
    "import geopandas as gpd\n",
    "import os"
   ]
  },
  {
   "cell_type": "code",
   "execution_count": 118,
   "metadata": {},
   "outputs": [
    {
     "name": "stdout",
     "output_type": "stream",
     "text": [
      "<class 'pandas.core.frame.DataFrame'>\n",
      "RangeIndex: 268 entries, 0 to 267\n",
      "Columns: 225 entries, 지점명 to 측정값\n",
      "[T/Hv]\n",
      "dtypes: datetime64[ns](2), float64(138), object(85)\n",
      "memory usage: 471.2+ KB\n"
     ]
    }
   ],
   "source": [
    "# 파일 지정 입력\n",
    "## 파일 리스트 추출\n",
    "folder_path = 'C:/Users/조민규/OneDrive - (주)지오그린21/41_2024-EN-33_기초성과분석_한국수자원공사/2_업무/04_분석/01_자료수집/02_자료/입력양식'\n",
    "file_names = os.listdir(folder_path)\n",
    "file_names = pd.DataFrame(file_names) #list 데이터 프레임화\n",
    "\n",
    "## main 테이블 로드\n",
    "main_table = file_names.iloc[0,0] \n",
    "main_df = pd.read_excel(f'{folder_path}/{main_table}', sheet_name = 1)\n",
    "\n",
    "## 추후 for 구문으로 작성 예정\n",
    "for i in range (1, len(file_names)) :  \n",
    "    join_table = file_names.iloc[i,0]\n",
    "    join_df = pd.read_excel(f'{folder_path}/{join_table}', sheet_name = 1)\n",
    "    main_df = main_df.merge(join_df, how='outer', on='현장관정번호', suffixes=(None, f'_file{i}'))\n",
    "\n",
    "main_df.info()"
   ]
  },
  {
   "cell_type": "code",
   "execution_count": 119,
   "metadata": {},
   "outputs": [],
   "source": [
    "main_df.to_excel(f'{folder_path}/융합.xlsx')"
   ]
  },
  {
   "cell_type": "code",
   "execution_count": null,
   "metadata": {},
   "outputs": [],
   "source": []
  }
 ],
 "metadata": {
  "kernelspec": {
   "display_name": "Python 3",
   "language": "python",
   "name": "python3"
  },
  "language_info": {
   "codemirror_mode": {
    "name": "ipython",
    "version": 3
   },
   "file_extension": ".py",
   "mimetype": "text/x-python",
   "name": "python",
   "nbconvert_exporter": "python",
   "pygments_lexer": "ipython3",
   "version": "3.11.7"
  }
 },
 "nbformat": 4,
 "nbformat_minor": 2
}
