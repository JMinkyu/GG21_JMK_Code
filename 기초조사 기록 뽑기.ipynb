{
 "cells": [
  {
   "cell_type": "code",
   "execution_count": 1,
   "metadata": {},
   "outputs": [],
   "source": [
    "import pandas as pd\n",
    "import numpy as np\n",
    "import os\n",
    "\n",
    "dir = 'F:/지하수 기초조사 성과'\n",
    "# 파일 안의 엑셀 목록화\n",
    "file_list = os.listdir(dir) \n",
    "\n"
   ]
  },
  {
   "cell_type": "code",
   "execution_count": 6,
   "metadata": {},
   "outputs": [
    {
     "name": "stdout",
     "output_type": "stream",
     "text": [
      "                     Year        Sidogun\n",
      "0                   1996년             서울\n",
      "1                   1997년           목포무안\n",
      "2                   1998년  함평(나주)(97_98)\n",
      "3                   1999년    영암강진(98_99)\n",
      "4                   1999년      울진(97_99)\n",
      "..                    ...            ...\n",
      "209  지하수 관리 기본계획 수립전 완료지역     영광(18년 보완)\n",
      "210  지하수 관리 기본계획 수립전 완료지역     용인(18년 보완)\n",
      "211  지하수 관리 기본계획 수립전 완료지역     임실(22년 보완)\n",
      "212  지하수 관리 기본계획 수립전 완료지역     제주(18년 보완)\n",
      "213  지하수 관리 기본계획 수립전 완료지역     창원(20년 보완)\n",
      "\n",
      "[214 rows x 2 columns]\n"
     ]
    }
   ],
   "source": [
    "df = pd.DataFrame(file_list, columns=['Year'])\n",
    "total = pd.DataFrame()\n",
    "\n",
    "for i in range(0, len(df)) :\n",
    "    year = df.iloc[i,0]\n",
    "    file_list_sub = os.listdir(f'{dir}/{year}')\n",
    "    sub_name = pd.DataFrame(file_list_sub, columns = ['Sidogun'])\n",
    "    sub_name['Year'] = year\n",
    "\n",
    "    sub_name = sub_name[['Year', 'Sidogun']]\n",
    "\n",
    "    total = pd.concat([total, sub_name], ignore_index=True)\n",
    "\n",
    "total.reset_index(drop=True, inplace=True)\n",
    "\n",
    "print(total)    \n"
   ]
  },
  {
   "cell_type": "code",
   "execution_count": 7,
   "metadata": {},
   "outputs": [],
   "source": [
    "total.to_excel(\"년도별 기초조사 지역현황.xlsx\")"
   ]
  },
  {
   "cell_type": "code",
   "execution_count": null,
   "metadata": {},
   "outputs": [],
   "source": []
  }
 ],
 "metadata": {
  "kernelspec": {
   "display_name": "base",
   "language": "python",
   "name": "python3"
  },
  "language_info": {
   "codemirror_mode": {
    "name": "ipython",
    "version": 3
   },
   "file_extension": ".py",
   "mimetype": "text/x-python",
   "name": "python",
   "nbconvert_exporter": "python",
   "pygments_lexer": "ipython3",
   "version": "3.11.7"
  }
 },
 "nbformat": 4,
 "nbformat_minor": 2
}
