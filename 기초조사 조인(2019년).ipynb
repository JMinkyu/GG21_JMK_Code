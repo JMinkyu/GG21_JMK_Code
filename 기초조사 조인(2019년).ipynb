{
 "cells": [
  {
   "cell_type": "code",
   "execution_count": 1,
   "metadata": {},
   "outputs": [],
   "source": [
    "import pandas as pd\n",
    "import os\n",
    "import glob\n",
    "from tqdm import tqdm"
   ]
  },
  {
   "cell_type": "code",
   "execution_count": 65,
   "metadata": {},
   "outputs": [],
   "source": [
    "dir = 'F:\\\\지하수 기초조사 성과'\n",
    "year = '2023'\n",
    "path_2022 = os.path.join(dir, f'{year}년')\n",
    "file_code_list = pd.read_excel('속성 테이블 자료 코드.xlsx')"
   ]
  },
  {
   "cell_type": "code",
   "execution_count": 76,
   "metadata": {},
   "outputs": [
    {
     "name": "stderr",
     "output_type": "stream",
     "text": [
      "파일 찾는 중:  94%|█████████▍| 16/17 [02:07<00:35, 35.04s/it]C:\\Users\\조민규\\AppData\\Local\\Temp\\ipykernel_67812\\77338619.py:20: FutureWarning: The behavior of DataFrame concatenation with empty or all-NA entries is deprecated. In a future version, this will no longer exclude empty or all-NA columns when determining the result dtypes. To retain the old behavior, exclude the relevant entries before the concat operation.\n",
      "  combined_df = pd.concat([combined_df, df], ignore_index=True)\n",
      "파일 찾는 중: 100%|██████████| 17/17 [02:12<00:00,  7.78s/it]\n"
     ]
    }
   ],
   "source": [
    "for n in tqdm(range(0, len(file_code_list)), desc=\"파일 찾는 중\"):\n",
    "    combined_df = pd.DataFrame()\n",
    "    file_num = file_code_list.iloc[n,0]\n",
    "    file_name = file_code_list.iloc[n,1]\n",
    "    file_code = file_code_list.iloc[n,2]\n",
    "\n",
    "    for i in os.listdir(path_2022):\n",
    "        gims_path = glob.glob(os.path.join(path_2022, i, '*GIMS*'))\n",
    "        if gims_path :\n",
    "            file_path = glob.glob(os.path.join(gims_path[0], f'*{file_code}*'))\n",
    "\n",
    "        # BEGIN: Open each file in subfolder_path using pandas\n",
    "        for file in file_path:\n",
    "            if file.endswith(('.xlsm', '.xlsx', '.xls')) and not os.path.basename(file).startswith('~$'):\n",
    "                try:\n",
    "                    df = pd.read_excel(file, sheet_name=1)\n",
    "                except ValueError:\n",
    "                    df = pd.read_excel(file, sheet_name=0)\n",
    "\n",
    "            combined_df = pd.concat([combined_df, df], ignore_index=True)\n",
    "    \n",
    "    output_folder = f'기초조사성과 정리/{year}년'\n",
    "    if not os.path.exists(f'기초조사성과 정리/{year}년'):\n",
    "        os.makedirs(f'기초조사성과 정리/{year}년')\n",
    "\n",
    "    try :\n",
    "        combined_df.to_csv(f'{output_folder}/{year}_{file_num}_{file_name}_{file_code}.csv',encoding='euc-kr',index=False)\n",
    "    except UnicodeEncodeError:\n",
    "        combined_df.to_csv(f'{output_folder}/{year}_{file_num}_{file_name}_{file_code}.csv',encoding='utf-8',index=False)\n"
   ]
  },
  {
   "cell_type": "code",
   "execution_count": 75,
   "metadata": {},
   "outputs": [
    {
     "data": {
      "text/plain": [
       "'F:\\\\지하수 기초조사 성과\\\\2023년\\\\2. 화천\\\\GIMS 입력자료\\\\15)M10211(자동수위개요).xls'"
      ]
     },
     "execution_count": 75,
     "metadata": {},
     "output_type": "execute_result"
    }
   ],
   "source": [
    "file"
   ]
  },
  {
   "cell_type": "code",
   "execution_count": null,
   "metadata": {},
   "outputs": [],
   "source": [
    "    "
   ]
  }
 ],
 "metadata": {
  "kernelspec": {
   "display_name": "base",
   "language": "python",
   "name": "python3"
  },
  "language_info": {
   "codemirror_mode": {
    "name": "ipython",
    "version": 3
   },
   "file_extension": ".py",
   "mimetype": "text/x-python",
   "name": "python",
   "nbconvert_exporter": "python",
   "pygments_lexer": "ipython3",
   "version": "3.11.7"
  }
 },
 "nbformat": 4,
 "nbformat_minor": 2
}
