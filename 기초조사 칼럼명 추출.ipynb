{
 "cells": [
  {
   "cell_type": "code",
   "execution_count": 2,
   "metadata": {},
   "outputs": [],
   "source": [
    "import pandas as pd\n",
    "import numpy as np\n",
    "import os\n",
    "\n",
    "dir = 'F:/지하수 기초조사 성과/2022년/연천/7. GIMS 입력자료'\n",
    "# 파일 안의 엑셀 목록화\n",
    "file_list = os.listdir(dir) "
   ]
  },
  {
   "cell_type": "code",
   "execution_count": 5,
   "metadata": {},
   "outputs": [],
   "source": [
    "##file_path = f'{dir}/{file_list[0]}'\n",
    "# 엑셀 불러오기\n",
    "##df = pd.read_excel(file_path, sheet_name=1)\n",
    "# 칼럼명 추출\n",
    "##column_names = df.columns.tolist()\n",
    "# 칼럼명을 데이터 프레임화\n",
    "##df_columns = pd.DataFrame(column_names, columns=[f'{file_list[0].split(\".\")[0]}'])"
   ]
  },
  {
   "cell_type": "code",
   "execution_count": 7,
   "metadata": {},
   "outputs": [
    {
     "name": "stdout",
     "output_type": "stream",
     "text": [
      "파일 확장자가 엑셀이 아닙니다. 해당 파일 : 검사결과.html\n"
     ]
    }
   ],
   "source": [
    "df_columns = pd.DataFrame()\n",
    "\n",
    "for i in range(len(file_list)) :\n",
    "    file_path = f'{dir}/{file_list[i]}'\n",
    "    # 엑셀 불러오기\n",
    "    file_extension = os.path.splitext(file_list[i])[1]\n",
    "\n",
    "    if file_extension in ['.xls', '.xlsx', '.xlsm'] :\n",
    "        try :\n",
    "            df = pd.read_excel(file_path, sheet_name=1)\n",
    "\n",
    "            # 칼럼명 추출\n",
    "            column_names = df.columns.tolist()\n",
    "\n",
    "            # 칼럼명을 데이터 프레임화\n",
    "            df_column = pd.DataFrame(column_names, columns=[f'{file_list[i].split(\".\")[0]}'])\n",
    "\n",
    "            df_columns = pd.concat([df_columns, df_column], axis=1)\n",
    "\n",
    "        except Exception as e :\n",
    "            print(f'파일 확장자가 엑셀이 아닙니다. 해당 파일 : {file_list[i]}')\n",
    "\n",
    "    else :\n",
    "        print(f'파일 확장자가 엑셀이 아닙니다. 해당 파일 : {file_list[i]}')"
   ]
  },
  {
   "cell_type": "code",
   "execution_count": 11,
   "metadata": {},
   "outputs": [],
   "source": [
    "df_columns.to_excel(f'{dir.split(\"/\")[3]} 기초조사.xlsx')"
   ]
  },
  {
   "cell_type": "code",
   "execution_count": 10,
   "metadata": {},
   "outputs": [
    {
     "data": {
      "text/plain": [
       "'F:/지하수 기초조사 성과/2022년/연천/7. GIMS 입력자료'"
      ]
     },
     "execution_count": 10,
     "metadata": {},
     "output_type": "execute_result"
    }
   ],
   "source": [
    "dir"
   ]
  },
  {
   "cell_type": "code",
   "execution_count": null,
   "metadata": {},
   "outputs": [],
   "source": [
    "df"
   ]
  }
 ],
 "metadata": {
  "kernelspec": {
   "display_name": "base",
   "language": "python",
   "name": "python3"
  },
  "language_info": {
   "codemirror_mode": {
    "name": "ipython",
    "version": 3
   },
   "file_extension": ".py",
   "mimetype": "text/x-python",
   "name": "python",
   "nbconvert_exporter": "python",
   "pygments_lexer": "ipython3",
   "version": "3.11.7"
  }
 },
 "nbformat": 4,
 "nbformat_minor": 2
}
